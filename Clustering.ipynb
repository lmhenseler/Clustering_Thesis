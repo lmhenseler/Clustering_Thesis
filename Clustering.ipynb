{
 "cells": [
  {
   "cell_type": "code",
   "execution_count": 1,
   "id": "ab42c42f-fe39-4b47-adf8-b4ec1eb2a835",
   "metadata": {},
   "outputs": [],
   "source": [
    "from sentence_transformers import SentenceTransformer\n",
    "from bertopic import BERTopic\n",
    "import umap\n",
    "from umap import UMAP\n",
    "import hdbscan\n",
    "from hdbscan import HDBSCAN\n",
    "from sklearn.feature_extraction.text import TfidfTransformer\n",
    "import optuna\n",
    "from collections import Counter\n",
    "from sklearn.ensemble import RandomForestClassifier\n",
    "import shap\n",
    "import numpy as np\n",
    "import pandas as pd\n",
    "import pickle"
   ]
  },
  {
   "cell_type": "code",
   "execution_count": 2,
   "id": "85888003-fd79-4eb9-9ad8-f629c0f0fcef",
   "metadata": {},
   "outputs": [],
   "source": [
    "dftweets = pd.read_json('../luna_tweets.json')"
   ]
  },
  {
   "cell_type": "code",
   "execution_count": 3,
   "id": "ae387891-414a-40d7-abd8-04feb43a4c09",
   "metadata": {},
   "outputs": [],
   "source": [
    "tweets = dftweets[\"text\"]"
   ]
  },
  {
   "cell_type": "code",
   "execution_count": 4,
   "id": "3076b6df-ea72-4c9d-9bfb-ec62ec7abd2c",
   "metadata": {},
   "outputs": [
    {
     "data": {
      "text/html": [
       "<div>\n",
       "<style scoped>\n",
       "    .dataframe tbody tr th:only-of-type {\n",
       "        vertical-align: middle;\n",
       "    }\n",
       "\n",
       "    .dataframe tbody tr th {\n",
       "        vertical-align: top;\n",
       "    }\n",
       "\n",
       "    .dataframe thead th {\n",
       "        text-align: right;\n",
       "    }\n",
       "</style>\n",
       "<table border=\"1\" class=\"dataframe\">\n",
       "  <thead>\n",
       "    <tr style=\"text-align: right;\">\n",
       "      <th></th>\n",
       "      <th>uid</th>\n",
       "      <th>tid</th>\n",
       "      <th>text</th>\n",
       "      <th>lang</th>\n",
       "      <th>created_at</th>\n",
       "    </tr>\n",
       "  </thead>\n",
       "  <tbody>\n",
       "    <tr>\n",
       "      <th>0</th>\n",
       "      <td>0</td>\n",
       "      <td>1092017</td>\n",
       "      <td>Let’s be real. Most young people in Kenya are ...</td>\n",
       "      <td>en</td>\n",
       "      <td>2021-05-31 08:09:44</td>\n",
       "    </tr>\n",
       "    <tr>\n",
       "      <th>1</th>\n",
       "      <td>0</td>\n",
       "      <td>18925442</td>\n",
       "      <td>#RETWEET!!\\n\\nA friend sent me this, someone o...</td>\n",
       "      <td>en</td>\n",
       "      <td>2019-08-06 17:30:22</td>\n",
       "    </tr>\n",
       "    <tr>\n",
       "      <th>2</th>\n",
       "      <td>0</td>\n",
       "      <td>18745080</td>\n",
       "      <td>Wuhan throws a pool party concert after 3 mont...</td>\n",
       "      <td>en</td>\n",
       "      <td>2020-08-19 00:31:47</td>\n",
       "    </tr>\n",
       "    <tr>\n",
       "      <th>3</th>\n",
       "      <td>0</td>\n",
       "      <td>18719812</td>\n",
       "      <td>Hey guys, post your business/hustle on the com...</td>\n",
       "      <td>en</td>\n",
       "      <td>2019-03-22 07:13:13</td>\n",
       "    </tr>\n",
       "    <tr>\n",
       "      <th>4</th>\n",
       "      <td>0</td>\n",
       "      <td>18719462</td>\n",
       "      <td>The UK’s first socially distanced gig. In  Ken...</td>\n",
       "      <td>en</td>\n",
       "      <td>2020-08-12 18:17:15</td>\n",
       "    </tr>\n",
       "    <tr>\n",
       "      <th>...</th>\n",
       "      <td>...</td>\n",
       "      <td>...</td>\n",
       "      <td>...</td>\n",
       "      <td>...</td>\n",
       "      <td>...</td>\n",
       "    </tr>\n",
       "    <tr>\n",
       "      <th>2183556</th>\n",
       "      <td>19185129</td>\n",
       "      <td>19185667</td>\n",
       "      <td>ICFAI Business School | IBS Online Selection P...</td>\n",
       "      <td>en</td>\n",
       "      <td>2022-02-23 10:22:40</td>\n",
       "    </tr>\n",
       "    <tr>\n",
       "      <th>2183557</th>\n",
       "      <td>19185129</td>\n",
       "      <td>19185659</td>\n",
       "      <td>ICFAI Business School | IBS Online Selection P...</td>\n",
       "      <td>en</td>\n",
       "      <td>2022-02-23 05:09:28</td>\n",
       "    </tr>\n",
       "    <tr>\n",
       "      <th>2183558</th>\n",
       "      <td>19185129</td>\n",
       "      <td>19185558</td>\n",
       "      <td>Congratulations to Ms. Arti For Securing Rs.20...</td>\n",
       "      <td>en</td>\n",
       "      <td>2022-04-06 08:47:29</td>\n",
       "    </tr>\n",
       "    <tr>\n",
       "      <th>2183559</th>\n",
       "      <td>19185129</td>\n",
       "      <td>19185180</td>\n",
       "      <td>Last few days left to Register for IBSAT Natio...</td>\n",
       "      <td>en</td>\n",
       "      <td>2022-09-23 12:31:20</td>\n",
       "    </tr>\n",
       "    <tr>\n",
       "      <th>2183560</th>\n",
       "      <td>19185129</td>\n",
       "      <td>19185228</td>\n",
       "      <td>Happy Small Industry Day.\\n#SmallIndustryDay #...</td>\n",
       "      <td>en</td>\n",
       "      <td>2022-08-30 05:17:37</td>\n",
       "    </tr>\n",
       "  </tbody>\n",
       "</table>\n",
       "<p>2183561 rows × 5 columns</p>\n",
       "</div>"
      ],
      "text/plain": [
       "              uid       tid  \\\n",
       "0               0   1092017   \n",
       "1               0  18925442   \n",
       "2               0  18745080   \n",
       "3               0  18719812   \n",
       "4               0  18719462   \n",
       "...           ...       ...   \n",
       "2183556  19185129  19185667   \n",
       "2183557  19185129  19185659   \n",
       "2183558  19185129  19185558   \n",
       "2183559  19185129  19185180   \n",
       "2183560  19185129  19185228   \n",
       "\n",
       "                                                      text lang  \\\n",
       "0        Let’s be real. Most young people in Kenya are ...   en   \n",
       "1        #RETWEET!!\\n\\nA friend sent me this, someone o...   en   \n",
       "2        Wuhan throws a pool party concert after 3 mont...   en   \n",
       "3        Hey guys, post your business/hustle on the com...   en   \n",
       "4        The UK’s first socially distanced gig. In  Ken...   en   \n",
       "...                                                    ...  ...   \n",
       "2183556  ICFAI Business School | IBS Online Selection P...   en   \n",
       "2183557  ICFAI Business School | IBS Online Selection P...   en   \n",
       "2183558  Congratulations to Ms. Arti For Securing Rs.20...   en   \n",
       "2183559  Last few days left to Register for IBSAT Natio...   en   \n",
       "2183560  Happy Small Industry Day.\\n#SmallIndustryDay #...   en   \n",
       "\n",
       "                 created_at  \n",
       "0       2021-05-31 08:09:44  \n",
       "1       2019-08-06 17:30:22  \n",
       "2       2020-08-19 00:31:47  \n",
       "3       2019-03-22 07:13:13  \n",
       "4       2020-08-12 18:17:15  \n",
       "...                     ...  \n",
       "2183556 2022-02-23 10:22:40  \n",
       "2183557 2022-02-23 05:09:28  \n",
       "2183558 2022-04-06 08:47:29  \n",
       "2183559 2022-09-23 12:31:20  \n",
       "2183560 2022-08-30 05:17:37  \n",
       "\n",
       "[2183561 rows x 5 columns]"
      ]
     },
     "execution_count": 4,
     "metadata": {},
     "output_type": "execute_result"
    }
   ],
   "source": [
    "dftweets"
   ]
  },
  {
   "cell_type": "markdown",
   "id": "67317b67-dad8-484b-8d4d-3897fc2a1034",
   "metadata": {},
   "source": [
    "Embeddings"
   ]
  },
  {
   "cell_type": "code",
   "execution_count": 14,
   "id": "cfd8c669-812d-4914-9909-e4acd8685957",
   "metadata": {},
   "outputs": [],
   "source": [
    "#Separar los tweets en tandas para un procesado más rápido\n",
    "tweets1 = tweets[0:436712]\n",
    "\n",
    "tweets2 = tweets[436712:873424]\n",
    "tweets2 = tweets2.reset_index(drop=True)\n",
    "\n",
    "tweets3 = tweets[873424:1310136]\n",
    "tweets3 = tweets3.reset_index(drop=True)\n",
    "\n",
    "tweets4 = tweets[1310136:1746848]\n",
    "tweets4 = tweets4.reset_index(drop=True)\n",
    "\n",
    "tweets5 = tweets[1746848:2182355]\n",
    "tweets5 = tweets5.reset_index(drop=True)"
   ]
  },
  {
   "cell_type": "code",
   "execution_count": null,
   "id": "3a1620b4-abe9-47c7-8ef6-d76425a6aa24",
   "metadata": {},
   "outputs": [],
   "source": [
    "embedding_model = SentenceTransformer(\"sentence-transformers/paraphrase-multilingual-MiniLM-L12-v2\")\n",
    "embeddings1 = embedding_model.encode(tweets1, show_progress_bar=True)"
   ]
  },
  {
   "cell_type": "code",
   "execution_count": null,
   "id": "791e3f9e-fa5a-494f-b9c8-f7e4ebdbbcbe",
   "metadata": {},
   "outputs": [],
   "source": [
    "embedding_model = SentenceTransformer(\"sentence-transformers/paraphrase-multilingual-MiniLM-L12-v2\")\n",
    "embeddings2 = embedding_model.encode(tweets2, show_progress_bar=True)"
   ]
  },
  {
   "cell_type": "code",
   "execution_count": null,
   "id": "835ae369-632c-4f2b-81d1-f709d452f430",
   "metadata": {},
   "outputs": [],
   "source": [
    "embedding_model = SentenceTransformer(\"sentence-transformers/paraphrase-multilingual-MiniLM-L12-v2\")\n",
    "embeddings3 = embedding_model.encode(tweets3, show_progress_bar=True)"
   ]
  },
  {
   "cell_type": "code",
   "execution_count": null,
   "id": "8f771ef4-5270-47dc-9cd9-808eea7289cf",
   "metadata": {},
   "outputs": [],
   "source": [
    "embedding_model = SentenceTransformer(\"sentence-transformers/paraphrase-multilingual-MiniLM-L12-v2\")\n",
    "embeddings4 = embedding_model.encode(tweets4, show_progress_bar=True)"
   ]
  },
  {
   "cell_type": "code",
   "execution_count": null,
   "id": "5d56038b-682a-432b-a99e-aef3a82656fb",
   "metadata": {},
   "outputs": [],
   "source": [
    "embedding_model = SentenceTransformer(\"sentence-transformers/paraphrase-multilingual-MiniLM-L12-v2\")\n",
    "embeddings5 = embedding_model.encode(tweets5, show_progress_bar=True)"
   ]
  },
  {
   "cell_type": "code",
   "execution_count": null,
   "id": "0d962096-1478-4ffc-a81e-833989e76f4b",
   "metadata": {},
   "outputs": [],
   "source": [
    "#Concatenación de los embeddings\n",
    "embeddings12 = np.concatenate((embeddings1, embeddings2), axis=0)\n",
    "embeddings123 = np.concatenate((embeddings12, embeddings3), axis=0)\n",
    "embeddings1234 = np.concatenate((embeddings123, embeddings4), axis=0)\n",
    "embeddings = np.concatenate((embeddings1234, embeddings5), axis=0)"
   ]
  },
  {
   "cell_type": "code",
   "execution_count": null,
   "id": "c0b33666-97a7-4173-84eb-cd14a1628cf8",
   "metadata": {},
   "outputs": [],
   "source": [
    "# Use pickle.load to load the embeddings from the file\n",
    "file_path = 'embeddings.pkl'\n",
    "\n",
    "#to load\n",
    "#with open(file_path, 'rb') as file:\n",
    "    #embeddings = pickle.load(file)\n",
    "    \n",
    "#to create\n",
    "with open(file_path, 'wb') as file:\n",
    "    pickle.dump(embeddings, file)\n"
   ]
  },
  {
   "cell_type": "markdown",
   "id": "549e3300-2ac0-4c44-bd36-36e259bbad05",
   "metadata": {},
   "source": [
    "Clustering de tweets"
   ]
  },
  {
   "cell_type": "code",
   "execution_count": 12,
   "id": "9f8b2214-5d70-4d77-8279-c10fabf93514",
   "metadata": {},
   "outputs": [],
   "source": [
    "#Hiperparámetros de UMAP y HDBScan para introducir en BERTopic\n",
    "umap_model = UMAP(n_neighbors=15, n_components=25, min_dist=0.0, metric='cosine', n_jobs=1, random_state=42)\n",
    "hdbscan_model = HDBSCAN(min_cluster_size=150, metric='euclidean', cluster_selection_method='eom', prediction_data=True)\n",
    "topic_model = BERTopic(umap_model=umap_model, hdbscan_model=hdbscan_model)"
   ]
  },
  {
   "cell_type": "code",
   "execution_count": null,
   "id": "6a367395-d98b-45cd-819f-ae286390a861",
   "metadata": {},
   "outputs": [],
   "source": [
    "topics, probs = topic_model.fit_transform(tweets, embeddings)"
   ]
  },
  {
   "cell_type": "markdown",
   "id": "72e9ffce-649d-4fcd-b78c-c3ac08947a1c",
   "metadata": {},
   "source": [
    "1057 tópicos. 1167621 tweets de ruido (tópico -1). \n",
    "Tarda unos cuatro días en ejecutarse."
   ]
  },
  {
   "cell_type": "code",
   "execution_count": null,
   "id": "d67f7205-aba0-4bdb-bbf0-e13af79ce7eb",
   "metadata": {},
   "outputs": [],
   "source": [
    "topic_info=topic_model.get_topic_info()\n",
    "topic_info"
   ]
  },
  {
   "cell_type": "code",
   "execution_count": null,
   "id": "85d62a9f-9186-4ee3-8dc2-af1df89a164a",
   "metadata": {},
   "outputs": [],
   "source": [
    "# Count vectorizer \n",
    "from sklearn.feature_extraction.text import CountVectorizer\n",
    "vectorizer_model = CountVectorizer(max_df=0.9, min_df=0.05)\n",
    "topic_model.update_topics(tweets, vectorizer_model=vectorizer_model)"
   ]
  },
  {
   "cell_type": "code",
   "execution_count": null,
   "id": "729fd6aa-3599-41a2-8f22-858744413b68",
   "metadata": {},
   "outputs": [],
   "source": [
    "topic_model.get_topic_info()"
   ]
  },
  {
   "cell_type": "markdown",
   "id": "27d71616-157a-464a-b54f-5b161930536e",
   "metadata": {},
   "source": [
    "Clustering de usuarios"
   ]
  },
  {
   "cell_type": "code",
   "execution_count": null,
   "id": "72cc26f3-1ff1-4371-b1d7-e2dfea02a7d0",
   "metadata": {},
   "outputs": [],
   "source": [
    "dftweets[\"topic\"] = topics"
   ]
  },
  {
   "cell_type": "code",
   "execution_count": null,
   "id": "8e56d0f7-e941-4ae6-be92-054ff156df26",
   "metadata": {},
   "outputs": [],
   "source": [
    "dftweetsSR = dftweets[dftweets['topic'] != -1]\n",
    "dftweetsSR.reset_index(drop=True)"
   ]
  },
  {
   "cell_type": "code",
   "execution_count": null,
   "id": "6073b50c-d5e1-4815-a7d3-76153ac3b0d3",
   "metadata": {},
   "outputs": [],
   "source": [
    "# Pivotar el dataframe para contar el número de tweets por usuario por tópico\n",
    "pivot_df = dftweetsSR.pivot_table(index='uid', columns='topic', aggfunc='size', fill_value=0)\n",
    "\n",
    "# Renombrar columnas\n",
    "pivot_df.columns = ['topic_' + str(col) for col in pivot_df.columns]\n",
    "\n",
    "# Uid es columna en vez de índice\n",
    "pivot_df.reset_index(inplace=True)"
   ]
  },
  {
   "cell_type": "code",
   "execution_count": null,
   "id": "98ea2e5c-5efe-4e3b-843b-95cd41249d28",
   "metadata": {},
   "outputs": [],
   "source": [
    "# Comprobar que no hay usuarios que no hayan publicado ningún tweet en ningún tópico\n",
    "uids_with_zero_tweets = pivot_df.index[pivot_df.sum(axis=1) == 0]\n",
    "\n",
    "if len(uids_with_zero_tweets) > 0:\n",
    "    print(\"Hay estos usuarios con cero tweets para cada tópico:\")\n",
    "    print(uids_with_zero_tweets)\n",
    "else:\n",
    "    print(\"No hay usuarios con cero tweets para cada tópico\")"
   ]
  },
  {
   "cell_type": "code",
   "execution_count": null,
   "id": "42d83ba0-31ad-4b58-8d9d-99b02ea0ced5",
   "metadata": {},
   "outputs": [],
   "source": [
    "#Comprobar si hay tópicos sin ningún tweet\n",
    "no_tweets_columns = pivot_df.columns[(pivot_df == 0).all()]\n",
    "\n",
    "if no_tweets_columns.empty:\n",
    "    print(\"Todos los tópicos tienen al menos un tweet\")\n",
    "else:\n",
    "    print(\"Tópicos sin tweets:\", list(no_tweets_columns))"
   ]
  },
  {
   "cell_type": "code",
   "execution_count": null,
   "id": "2ffbb71e-6bc2-4994-8954-1900b0676baf",
   "metadata": {},
   "outputs": [],
   "source": [
    "# Quitar y guardar la columna de uid para el procesado\n",
    "uid = pivot_df.pop('uid')"
   ]
  },
  {
   "cell_type": "markdown",
   "id": "2229f168-4b2f-469d-9b99-33a38e4c09cd",
   "metadata": {},
   "source": [
    "TF-IDF"
   ]
  },
  {
   "cell_type": "code",
   "execution_count": null,
   "id": "445116f1-a86f-4126-9754-af98e2d46bb4",
   "metadata": {},
   "outputs": [],
   "source": [
    "tfidf_transformer = TfidfTransformer()\n",
    "tfidf_matrix = tfidf_transformer.fit_transform(pivot_df)\n",
    "tfidf_df = pd.DataFrame(tfidf_matrix.toarray(), columns=pivot_df.columns)"
   ]
  },
  {
   "cell_type": "code",
   "execution_count": null,
   "id": "1eb6553a-3403-4197-aa08-c5118893cf61",
   "metadata": {},
   "outputs": [],
   "source": [
    "# Crear un array con los valores del dataframe\n",
    "pivot_array = pivot_df.values\n",
    "pivot_array"
   ]
  },
  {
   "cell_type": "code",
   "execution_count": null,
   "id": "b4c67f48-aacf-4566-8d70-39deeefad7a3",
   "metadata": {},
   "outputs": [],
   "source": [
    "# Crear un array con los valores del dataframe\n",
    "tfidf_array = tfidf_df.values\n",
    "tfidf_array"
   ]
  },
  {
   "cell_type": "markdown",
   "id": "240caf8c-f9f3-44cd-8812-34f90efa7aaf",
   "metadata": {},
   "source": [
    "Optuna"
   ]
  },
  {
   "cell_type": "code",
   "execution_count": null,
   "id": "9b34facd-7391-4c93-964d-9f283a7fa035",
   "metadata": {},
   "outputs": [],
   "source": [
    "# Se define la optimización de parámetros\n",
    "def objective(trial):\n",
    "    # UMAP\n",
    "    n_neighbors = trial.suggest_int(\"n_neighbors\", 5, 50)\n",
    "    n_components = trial.suggest_int(\"n_components\", 5, 30)\n",
    "    min_dist = trial.suggest_float(\"min_dist\", 0.00, 0.5)\n",
    "    metricUMAP = trial.suggest_categorical(\"metricUMAP\", [\"cosine\", \"euclidean\"])\n",
    "    \n",
    "    #hdbscan\n",
    "    min_cluster_size = trial.suggest_int(\"min_cluster_size\", 10, 500, step=5)\n",
    "    min_samples = trial.suggest_int(\"min_samples\", 1, 100, step=5)\n",
    "    metricHDB = trial.suggest_categorical(\"metricHDB\", [\"l2\", \"euclidean\"])\n",
    "    cluster_selection_method = trial.suggest_categorical(\"cluster_selection_method\", [\"eom\", \"leaf\"])\n",
    "\n",
    "    umap_model = UMAP(n_neighbors=n_neighbors, n_components=n_components, min_dist=min_dist, metric=metricUMAP)\n",
    "\n",
    "    hdbscan_model = HDBSCAN(min_cluster_size=min_cluster_size, min_samples=min_samples, metric=metricHDB, cluster_selection_method=cluster_selection_method)\n",
    "\n",
    "    embeddings_umap = umap_model.fit_transform(tfidf_array)\n",
    "    clusters = hdbscan_model.fit_predict(embeddings_umap)\n",
    "\n",
    "    calinski_harabasz_score = metrics.calinski_harabasz_score(tfidf_array, hdbscan_model.labels_)\n",
    "    \n",
    "    return calinski_harabasz_score"
   ]
  },
  {
   "cell_type": "code",
   "execution_count": null,
   "id": "3861e117-9a0f-44b6-9c2f-e6e2fa07eedd",
   "metadata": {},
   "outputs": [],
   "source": [
    "# calinski_harabasz se maximiza\n",
    "study = optuna.create_study(direction=\"maximize\")  "
   ]
  },
  {
   "cell_type": "code",
   "execution_count": null,
   "id": "8d83c647-ac52-47ba-902c-c46f3422e225",
   "metadata": {},
   "outputs": [],
   "source": [
    "study.optimize(objective, n_trials=100)"
   ]
  },
  {
   "cell_type": "code",
   "execution_count": null,
   "id": "09d684ab-1ef3-4644-8d53-756f76757e17",
   "metadata": {},
   "outputs": [],
   "source": [
    "optuna.visualization.plot_param_importances(study)"
   ]
  },
  {
   "cell_type": "code",
   "execution_count": null,
   "id": "5933f179-9e21-4918-8930-c64d2acaf19f",
   "metadata": {},
   "outputs": [],
   "source": [
    "# Mejores hiperparámetros\n",
    "best_params = study.best_params\n",
    "best_value = study.best_value\n",
    "result_text = f\"Mejores hiperparámetros con calinski_harabasz_score {best_value}: {best_params}\""
   ]
  },
  {
   "cell_type": "markdown",
   "id": "dac7eed8-a317-416d-8a5a-880be214a01b",
   "metadata": {},
   "source": [
    "\"Best Hyperparameters with value calinski_harabasz_score 197.88977056021812: {'n_neighbors': 46, 'n_components': 24, 'min_dist': 0.26992862633318315, 'metricUMAP': 'cosine', 'min_cluster_size': 320, 'min_samples': 86, 'metricHDB': 'euclidean', 'cluster_selection_method': 'eom'}\"\n",
    "\n",
    "Counter({-1: 5669, 6: 3852, 3: 1257, 4: 1052, 1: 702, 0: 681, 5: 560, 2: 495})"
   ]
  },
  {
   "cell_type": "markdown",
   "id": "4665846e-96be-463d-b15d-0def7db701bb",
   "metadata": {},
   "source": [
    "Clustering de usuarios"
   ]
  },
  {
   "cell_type": "code",
   "execution_count": null,
   "id": "0f028a8d-9d46-40db-8f98-3c4995a02d44",
   "metadata": {},
   "outputs": [],
   "source": [
    "umap_modelU = UMAP(n_neighbors=46, n_components=24, min_dist=0.26992862633318315, metric='euclidean', n_jobs=1, random_state=42)\n",
    "embeddings_umapU = umap_model.fit_transform(tfidf_array)"
   ]
  },
  {
   "cell_type": "code",
   "execution_count": null,
   "id": "020375c7-f26f-4995-b037-a84a6973a34c",
   "metadata": {},
   "outputs": [],
   "source": [
    "hdbscan_modelU = HDBSCAN(min_cluster_size=320, min_samples=86, metric='euclidean', cluster_selection_method='eom', prediction_data=True)\n",
    "clusters = hdbscan_modelU.fit_predict(embeddings_umapU)"
   ]
  },
  {
   "cell_type": "code",
   "execution_count": null,
   "id": "96862d12-3d50-493a-b7bc-ebdf1b2cd8e2",
   "metadata": {},
   "outputs": [],
   "source": [
    "clusters_counter=Counter(hdbscan_modelU.labels_)\n",
    "clusters_counter"
   ]
  },
  {
   "cell_type": "code",
   "execution_count": null,
   "id": "0d7b1bb7-0dba-4623-a1e7-79e25f4853da",
   "metadata": {},
   "outputs": [],
   "source": [
    "# Se vuelve a introducir la columna uid\n",
    "pivot_df.insert(0, 'uid', uid)"
   ]
  },
  {
   "cell_type": "code",
   "execution_count": null,
   "id": "2a4936f7-2af0-4fb4-b8fc-dd7025f67b99",
   "metadata": {},
   "outputs": [],
   "source": [
    "# Se añade la columna clusters para poder hacer consultas\n",
    "pivot_df.insert(1, 'cluster', clusters)"
   ]
  },
  {
   "cell_type": "code",
   "execution_count": null,
   "id": "b2478145-a83f-46ca-a934-10938a5d7f0e",
   "metadata": {},
   "outputs": [],
   "source": [
    "pivot_df.query(\"cluster==1\")"
   ]
  },
  {
   "cell_type": "code",
   "execution_count": null,
   "id": "b91d1956-8c9b-46b8-af0a-64b23f219ab4",
   "metadata": {},
   "outputs": [],
   "source": [
    "# Asignar el nombre correspondiente a cada tópico\n",
    "\n",
    "name_values = topic_info['Name'].tolist()\n",
    "new_column_names = pivot_df_clusters.columns[:2].tolist() + [f\"topic{name}\" for name in name_values]\n",
    "\n",
    "pivot_df.columns = new_column_names\n",
    "pivot_df"
   ]
  },
  {
   "cell_type": "markdown",
   "id": "bc8d4af0-f782-4c73-892a-10a92a7b10bd",
   "metadata": {},
   "source": [
    "Comunidades"
   ]
  },
  {
   "cell_type": "code",
   "execution_count": null,
   "id": "529cb980-4314-4236-bf63-7e8b3b55055f",
   "metadata": {},
   "outputs": [],
   "source": [
    "# Lista de tópicos más populares por cluster\n",
    "cluster_topic_sums = pivot_df.groupby('cluster').sum()\n",
    "\n",
    "most_popular_topics = {}\n",
    "for cluster, group in cluster_topic_sums.iterrows():\n",
    "    top_topics = group.nlargest(5).dropna()\n",
    "    most_popular_topics[cluster] = top_topics\n",
    "\n",
    "# Display the results\n",
    "for cluster, topics in most_popular_topics.items():\n",
    "    print(f\"Cluster {cluster}:\")\n",
    "    for topic, count in topics.items():\n",
    "        print(f\"  {topic}: {count} tweets\")\n",
    "         print(\"\\n\")"
   ]
  }
 ],
 "metadata": {
  "kernelspec": {
   "display_name": "Python 3 (ipykernel)",
   "language": "python",
   "name": "python3"
  },
  "language_info": {
   "codemirror_mode": {
    "name": "ipython",
    "version": 3
   },
   "file_extension": ".py",
   "mimetype": "text/x-python",
   "name": "python",
   "nbconvert_exporter": "python",
   "pygments_lexer": "ipython3",
   "version": "3.10.12"
  }
 },
 "nbformat": 4,
 "nbformat_minor": 5
}
